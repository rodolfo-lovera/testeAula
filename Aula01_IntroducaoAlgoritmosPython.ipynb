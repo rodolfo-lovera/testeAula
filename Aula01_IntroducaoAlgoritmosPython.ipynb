{
  "nbformat": 4,
  "nbformat_minor": 0,
  "metadata": {
    "colab": {
      "provenance": [],
      "authorship_tag": "ABX9TyPi4YjC/pdpdlGges+Lht2f",
      "include_colab_link": true
    },
    "kernelspec": {
      "name": "python3",
      "display_name": "Python 3"
    },
    "language_info": {
      "name": "python"
    }
  },
  "cells": [
    {
      "cell_type": "markdown",
      "metadata": {
        "id": "view-in-github",
        "colab_type": "text"
      },
      "source": [
        "<a href=\"https://colab.research.google.com/github/rodolfo-lovera/testeAula/blob/main/Aula01_IntroducaoAlgoritmosPython.ipynb\" target=\"_parent\"><img src=\"https://colab.research.google.com/assets/colab-badge.svg\" alt=\"Open In Colab\"/></a>"
      ]
    },
    {
      "cell_type": "markdown",
      "source": [
        "# **Primeiros passos com Python**\n",
        "\n",
        "Vamos realizar os primeiros códigos com a linguagem Python para observar o funcionamento das etapas:\n",
        "\n",
        "\n",
        "1.   Entrada\n",
        "2.   Processamento\n",
        "3.   Saída\n",
        "4.   Comentários"
      ],
      "metadata": {
        "id": "xs5LElAqdEHq"
      }
    },
    {
      "cell_type": "markdown",
      "source": [
        "## EXERCÍCIO 1 - Um Bom Programa Inicial\n",
        "O primeiro passo para usar linhas de código em alguma linguagem (saída de dados)"
      ],
      "metadata": {
        "id": "o2hb2CRhj02K"
      }
    },
    {
      "cell_type": "code",
      "execution_count": null,
      "metadata": {
        "colab": {
          "base_uri": "https://localhost:8080/"
        },
        "id": "810yqzxmcC5y",
        "outputId": "44bb0fb2-1562-4e1d-aa4a-92204af008d9"
      },
      "outputs": [
        {
          "output_type": "stream",
          "name": "stdout",
          "text": [
            "Hello World!\n",
            "Hello Again.\n",
            "\n",
            "I like Typing this.\n",
            "Yay! Printing.\n",
            "I'd much rather you not.\n",
            "I said do not touch this\n"
          ]
        }
      ],
      "source": [
        "print(\"Hello World!\")\n",
        "print(\"Hello Again.\")\n",
        "print(\"I like Typing this.\")\n",
        "print(\"Yay! Printing.\")\n",
        "print(\"I'd much rather you not.\")\n",
        "print(\"I said do not touch this\")\n",
        "\n"
      ]
    },
    {
      "cell_type": "markdown",
      "source": [
        "## EXERCÍCIO 2 - Comentários e Cerquilhas\n",
        "Compreender o uso de comentários para minhas linha de códigos;"
      ],
      "metadata": {
        "id": "q7fJ98JKk153"
      }
    },
    {
      "cell_type": "code",
      "source": [
        "# Um comentário, assim você pode ler seu programa mais tarde.\n",
        "# Qualquer coisa depois de # é ignorada pelo Python.\n",
        "\n",
        "print(\"I could have code like this.\") # e o comentário depois ignorado\n",
        "\n",
        "# Você também pode usar um comentário para desabilitar um código:\n",
        "#print(\"This won't run.\")\n",
        "\n",
        "print('This will run')\n"
      ],
      "metadata": {
        "id": "4dpZdgBXk2Su",
        "colab": {
          "base_uri": "https://localhost:8080/"
        },
        "outputId": "ee404760-ba87-4551-a48e-fb663d165b9e"
      },
      "execution_count": null,
      "outputs": [
        {
          "output_type": "stream",
          "name": "stdout",
          "text": [
            "I could have code like this.\n",
            "This will run\n"
          ]
        }
      ]
    },
    {
      "cell_type": "markdown",
      "source": [
        "## EXERCÍCIO 3 - Números e Matemática\n",
        "Primeiras operações matemáticas, dentro da instrução de saída dados;"
      ],
      "metadata": {
        "id": "gcXXW30pk7bG"
      }
    },
    {
      "cell_type": "code",
      "source": [
        "#inicia com um texto sobre o que sera feito no resto do programa\n",
        "print(\"I will now count my chickens:\")\n",
        "#irá concatenar o texto entre aspas com o resultado das operações após as vírgulas\n",
        "print(\"Hens\", 25 + 30 / 6)\n",
        "print(\"Roosters\", 100.0 - 25 * 3 % 4)\n",
        "#inicia com um texto sobre o que sera feito no resto do programa\n",
        "print(\"Now I will count the eggs:\")\n",
        "#irá realizar uma operação matemática\n",
        "print(3 + 2 + 1 - 5 + 4 % 2 - 1 / 4 + 6)\n",
        "#inicia com um texto sobre o que sera feito no resto do programa\n",
        "print(\"Is it true that 3 + 2 < 5 - 7?\")\n",
        "#realizar uma operação relacionando em que o resultado é booleano\n",
        "print(3 + 2 < 5 - 7)\n",
        "#inicia com um texto sobre o que sera feito no resto do programa\n",
        "print(\"Whats is 3 + 2?\", 3 + 2)\n",
        "print(\"Whats is 5 - 7?\", 5 - 7)\n",
        "#inicia com um texto sobre o que sera feito no resto do programa\n",
        "print(\"Oh, that's why it's False.\")\n",
        "#inicia com um texto sobre o que sera feito no resto do programa\n",
        "print(\"How About some more.\")\n",
        "#texto com operações relacionais\n",
        "print(\"Is it greater?\", 5 > -2)\n",
        "print(\"Is it greater or equal?\", 5 >= -2)\n",
        "print(\"Is it less or equal?\", 5 <= -2)"
      ],
      "metadata": {
        "id": "XDurDaHkk443",
        "colab": {
          "base_uri": "https://localhost:8080/"
        },
        "outputId": "50fe205b-c7fe-4f26-f7a5-475333f9218e"
      },
      "execution_count": null,
      "outputs": [
        {
          "output_type": "stream",
          "name": "stdout",
          "text": [
            "I will now count my chickens:\n",
            "Hens 30.0\n",
            "Roosters 97.0\n",
            "Now I will count the eggs:\n",
            "6.75\n",
            "Is it true that 3 + 2 < 5 - 7?\n",
            "False\n",
            "Whats is 3 + 2? 5\n",
            "Whats is 5 - 7? -2\n",
            "Oh, that's why it's False.\n",
            "How About some more.\n",
            "Is it greater? True\n",
            "Is it greater or equal? True\n",
            "Is it less or equal? False\n"
          ]
        }
      ]
    },
    {
      "cell_type": "markdown",
      "source": [
        "## EXERCÍCIO 4 - Variáveis e Nomes\n",
        "Como declarar variáveis e seus rótulos;"
      ],
      "metadata": {
        "id": "iujZBHA5lMNc"
      }
    },
    {
      "cell_type": "code",
      "source": [
        "cars = 100 #atribuindo um número inteiro\n",
        "spaceInACar = 4.0 #atribuindo um número real\n",
        "drivers = 30 #atribuindo um número inteiro\n",
        "passengers = 90 #atribuindo um número inteiro\n",
        "carsNotDriven = cars - drivers #operação aritmética entre inteiro e inteiro\n",
        "carsDriven = drivers # atribuição de valor entre variáveis sem operação\n",
        "carpoolCapacity = carsDriven * spaceInACar #atribuindo o resultado de uma operação aritmética entre inteiro e real\n",
        "averagePassengersPerCar = passengers / carsDriven #atribuindo o resultado de uma operação aritmética entre inteiro e inteiro\n",
        "\n",
        "print(\"There are\", cars, \"cars available.\")\n",
        "print(\"There are only\", drivers, \"drivers available.\")\n",
        "print(\"There will be\", carsNotDriven, \"empty cars today.\")\n",
        "print(\"We can transport\", carpoolCapacity, \"people today.\")\n",
        "print(\"We have\", passengers, \"to carpool today.\")\n",
        "print(\"We need to put about\", averagePassengersPerCar, \"in each car.\")\n",
        "print(10/5)"
      ],
      "metadata": {
        "id": "-9JgU62mlSby"
      },
      "execution_count": null,
      "outputs": []
    }
  ]
}